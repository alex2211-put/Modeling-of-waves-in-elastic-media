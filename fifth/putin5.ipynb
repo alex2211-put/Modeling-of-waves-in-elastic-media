{
 "cells": [
  {
   "cell_type": "code",
   "execution_count": 1,
   "id": "934cf3c6",
   "metadata": {},
   "outputs": [],
   "source": [
    "import matplotlib.pyplot as plt\n",
    "from tqdm import tqdm\n",
    "from math import sqrt\n",
    "from math import exp\n",
    "from matplotlib.animation import FuncAnimation\n",
    "from IPython.display import HTML"
   ]
  },
  {
   "cell_type": "markdown",
   "id": "7109eb95",
   "metadata": {},
   "source": [
    "# Settings"
   ]
  },
  {
   "cell_type": "code",
   "execution_count": 2,
   "id": "e8222ce9",
   "metadata": {},
   "outputs": [],
   "source": [
    "C = 0.1\n",
    "R = 1"
   ]
  },
  {
   "cell_type": "markdown",
   "id": "d538c037",
   "metadata": {},
   "source": [
    "# Code"
   ]
  },
  {
   "cell_type": "code",
   "execution_count": 13,
   "id": "8f2a1189",
   "metadata": {},
   "outputs": [],
   "source": [
    "# parameters\n",
    "r_min = 0.2\n",
    "r_max = 2.0\n",
    "c = 1.5\n",
    "a = 0.8\n",
    "b = 1.4\n",
    "count1 = 900\n",
    "count2 = count1 * 3\n",
    "h1 = (r_max - r_min) / count1\n",
    "h2 = (r_max - r_min) / count2\n",
    "tau1 = C * h1 / c\n",
    "tau2 = C * h2 / c\n",
    "\n",
    "timeBegin, timeEnd = 1.2, 1.8"
   ]
  },
  {
   "cell_type": "code",
   "execution_count": 14,
   "id": "c19f1980",
   "metadata": {},
   "outputs": [],
   "source": [
    "def r(i, h):\n",
    "    return r_min + (i - 0.5)*h\n",
    "r1 = [r(i, h1) for i in range(count1 + 2)]\n",
    "r2 = [r(i, h2) for i in range(count2 + 2)]"
   ]
  },
  {
   "cell_type": "code",
   "execution_count": 15,
   "id": "4b3e0868",
   "metadata": {},
   "outputs": [],
   "source": [
    "analSol = lambda t, r: r ** ((1 - R) / 2) * U(c * t - r)"
   ]
  },
  {
   "cell_type": "code",
   "execution_count": 16,
   "id": "4f7e1c5d",
   "metadata": {},
   "outputs": [],
   "source": [
    "def gen_next(u, u_prev, h, tau, r):\n",
    "    u_next = [0 for _ in range(len(u))]\n",
    "    for i in range(2, len(u) - 2):\n",
    "        u_next[i] = 2 * u[i] - u_prev[i] + (tau**2 * c**2) / h**2 * (\n",
    "            -5/2*u[i] + 4/3*u[i + 1] + 4/3*u[i-1] - 1/12 * u[i + 2] - 1/12 * u[i - 2]\n",
    "        )\n",
    "    u_next[0] = u_next[1] = u_next[2]\n",
    "    u_next[-1] = u_next[-2] = u_next[-3]\n",
    "    return u_next"
   ]
  },
  {
   "cell_type": "code",
   "execution_count": 17,
   "id": "d3b99653",
   "metadata": {},
   "outputs": [],
   "source": [
    "def U(r):\n",
    "    if a < r < b:\n",
    "        return exp((-4*(2*r - (a + b))**2) / ((b - a)**2 - (2*r - (a + b))**2))\n",
    "    return 0"
   ]
  },
  {
   "cell_type": "code",
   "execution_count": 18,
   "id": "6ffbf2e0",
   "metadata": {},
   "outputs": [],
   "source": [
    "def calc_C(u1, u2):\n",
    "    if len(u1) == count1 + 2:\n",
    "        u1_ = u1[1:-1]\n",
    "        u2_ = u2[1:-1]\n",
    "        ans = [abs(u1_[i] - u2_[i]) for i in range(len(u2_))]\n",
    "    else:\n",
    "        u1_ = u1[2:-2:3]\n",
    "        u2_ = u2[1:-1]\n",
    "        ans = [abs(u1_[i] - u2_[i]) for i in range(len(u1_))]\n",
    "    return max(ans)"
   ]
  },
  {
   "cell_type": "code",
   "execution_count": 19,
   "id": "9a9b448c",
   "metadata": {},
   "outputs": [],
   "source": [
    "def calc_L2(u1, u2):\n",
    "    if len(u1) == count1 + 2:\n",
    "        u1_ = u1[1:-1]\n",
    "        u2_ = u2[1:-1]\n",
    "    else:\n",
    "        u1_ = u1[2:-2:3]\n",
    "        u2_ = u2[1:-1]\n",
    "    ans = [(abs(u1_[i] - u2_[i]))**2 for i in range(len(u1_))]\n",
    "    return sqrt(sum(ans))"
   ]
  },
  {
   "cell_type": "code",
   "execution_count": 20,
   "id": "87d0dbc4",
   "metadata": {},
   "outputs": [],
   "source": [
    "t = timeBegin\n",
    "u01 = [analSol(timeBegin, r(i, h1)) for i in range(count1 + 2)]\n",
    "v01 = [analSol(timeBegin, r(i, h1)) for i in range(count1 + 2)]\n",
    "\n",
    "u02 = [analSol(timeBegin, r(i, h2)) for i in range(count2 + 2)]\n",
    "v02 = [analSol(timeBegin, r(i, h2)) for i in range(count2 + 2)]\n",
    "\n",
    "\n",
    "u_next1 = [analSol(timeBegin + tau1, r(i, h1)) for i in range(count1 + 2)]\n",
    "v01_next = [analSol(timeBegin + tau1/2, r(i, h1)) for i in range(count1 + 2)]\n",
    "y2 = gen_next(v01_next, v01, h1, tau1/2, r1)\n",
    "v01_next, v01 = y2, v01_next\n",
    "\n",
    "u_next2 = [analSol(timeBegin + tau2, r(i, h2)) for i in range(count2 + 2)]\n",
    "v02_next = [analSol(timeBegin + tau2/2, r(i, h2)) for i in range(count2 + 2)]\n",
    "y2 = gen_next(v02_next, v02, h2, tau2/2, r2)\n",
    "v02_next, v02 = y2, v02_next\n",
    "for i in range(2):\n",
    "    y2 = gen_next(u_next2, u02, h2, tau2, r2)\n",
    "    u_next2, u02 = y2, u_next2\n",
    "    for i in range(2):\n",
    "        y2 = gen_next(v02_next, v02, h2, tau2/2, r2)\n",
    "        v02_next, v02 = y2, v02_next"
   ]
  },
  {
   "cell_type": "code",
   "execution_count": 21,
   "id": "88fae145",
   "metadata": {},
   "outputs": [
    {
     "name": "stderr",
     "output_type": "stream",
     "text": [
      "100%|██████████████████████████████████████████████████████████████████████████████████████████████████████████████████████████████████████████████████████████████████████████████████████████████████████████████████████████████████████████████████████████████████████████████████████████████████████████████████████████████████████████████████████████████████████████████████████████████████| 4500/4500 [00:43<00:00, 104.20it/s]\n"
     ]
    }
   ],
   "source": [
    "norm_c = []\n",
    "norm_L2 = []\n",
    "time = []\n",
    "t = timeBegin + tau1\n",
    "with tqdm(total=int((timeEnd - timeBegin)/tau1)) as pbar:\n",
    "    while t < timeEnd:\n",
    "        y1 = gen_next(u_next1, u01, h1, tau1, r1)\n",
    "        u_next1, u01 = y1, u_next1\n",
    "        for i in range(2):\n",
    "            y2 = gen_next(v01_next, v01, h1, tau1/2, r1)\n",
    "            v01_next, v01 = y2, v01_next\n",
    "        \n",
    "        for i in range(3):\n",
    "            y3 = gen_next(u_next2, u02, h2, tau2, r2)\n",
    "            u_next2, u02 = y3, u_next2\n",
    "            for i in range(2):\n",
    "                y4 = gen_next(v02_next, v02, h2, tau2/2, r2)\n",
    "                v02_next, v02 = y4, v02_next\n",
    "\n",
    "        analit_sol = [analSol(t + tau1, r(i, h1)) for i in range(count1 + 2)]\n",
    "        \n",
    "        w1 = [1/3*(4*v01_next[i] - u_next1[i]) for i in range(len(u_next1))]\n",
    "        w2 = [1/3*(4*v02_next[i] - u_next2[i]) for i in range(len(u_next2))]\n",
    "        \n",
    "        norm_c.append(calc_C(w1, analit_sol)  / calc_C(w2, analit_sol))\n",
    "        norm_L2.append(calc_L2(w1, analit_sol) / calc_L2(w2, analit_sol))\n",
    "        time.append(t + tau1)\n",
    "        t += tau1\n",
    "        pbar.update(1)\n"
   ]
  },
  {
   "cell_type": "code",
   "execution_count": 24,
   "id": "6e2cc7c8",
   "metadata": {},
   "outputs": [
    {
     "data": {
      "image/png": "[encoded data removed]",
      "text/plain": [
       "<Figure size 900x700 with 1 Axes>"
      ]
     },
     "metadata": {},
     "output_type": "display_data"
    }
   ],
   "source": [
    "fig, ax = plt.subplots(figsize = (9, 7))\n",
    "ax.plot(time, norm_c, 'g')\n",
    "ax.plot(time, norm_L2, 'b')\n",
    "ax.plot(time, [81 for _ in range(len(time))], 'r')\n",
    "ax.set_title(\"Отношение норм для схемы O4 $R^1$\")\n",
    "ax.grid()\n",
    "ax.legend(['C-norm', 'L2-norm', 'Ref=81'], loc=4)\n",
    "ax.set_xlabel('Time')\n",
    "ax.set_ylabel('Ratio')\n",
    "\n",
    "plt.show()"
   ]
  },
  {
   "cell_type": "code",
   "execution_count": null,
   "id": "980051cc",
   "metadata": {},
   "outputs": [],
   "source": []
  }
 ],
 "metadata": {
  "kernelspec": {
   "display_name": "Python 3 (ipykernel)",
   "language": "python",
   "name": "python3"
  },
  "language_info": {
   "codemirror_mode": {
    "name": "ipython",
    "version": 3
   },
   "file_extension": ".py",
   "mimetype": "text/x-python",
   "name": "python",
   "nbconvert_exporter": "python",
   "pygments_lexer": "ipython3",
   "version": "3.10.8"
  }
 },
 "nbformat": 4,
 "nbformat_minor": 5
}
