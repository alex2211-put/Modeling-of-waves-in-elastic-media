{
 "cells": [
  {
   "cell_type": "code",
   "execution_count": 1,
   "id": "b90459d7",
   "metadata": {},
   "outputs": [],
   "source": [
    "from math import exp\n",
    "from math import sqrt\n",
    "import matplotlib.pyplot as plt\n",
    "%matplotlib notebook\n",
    "from tqdm import tqdm\n",
    "import numpy as np"
   ]
  },
  {
   "cell_type": "markdown",
   "id": "d73ed59c",
   "metadata": {},
   "source": [
    "## Settings"
   ]
  },
  {
   "cell_type": "code",
   "execution_count": 2,
   "id": "b8b09826",
   "metadata": {},
   "outputs": [],
   "source": [
    "C = 0.9\n",
    "R = 2"
   ]
  },
  {
   "cell_type": "markdown",
   "id": "9a03764b",
   "metadata": {},
   "source": [
    "## Code"
   ]
  },
  {
   "cell_type": "code",
   "execution_count": 3,
   "id": "b7cf5144",
   "metadata": {},
   "outputs": [],
   "source": [
    "# parameters\n",
    "r_min = 0\n",
    "r_max = 1.8\n",
    "c = 1.5\n",
    "a = 0.6\n",
    "b = 1.2\n",
    "T = 3\n",
    "t = 0\n",
    "count1 = 100\n",
    "count2 = 300\n",
    "count3 = 900\n",
    "h1 = (r_max - r_min) / count1\n",
    "h2 = (r_max - r_min) / count2\n",
    "h3 = (r_max - r_min) / count3\n",
    "tau1 = C * h1 / c\n",
    "tau2 = C * h2 / c\n",
    "tau3 = C * h3 / c"
   ]
  },
  {
   "cell_type": "code",
   "execution_count": 4,
   "id": "628ffad8",
   "metadata": {},
   "outputs": [],
   "source": [
    "def r(i, h):\n",
    "    return r_min + (i - 0.5)*h\n",
    "r1 = [r(i, h1) for i in range(count1 + 2)]\n",
    "r2 = [r(i, h2) for i in range(count2 + 2)]\n",
    "r3 = [r(i, h3) for i in range(count3 + 2)]"
   ]
  },
  {
   "cell_type": "code",
   "execution_count": 5,
   "id": "91d1ee55",
   "metadata": {},
   "outputs": [],
   "source": [
    "def get_v0(r):\n",
    "    if a < r < b:\n",
    "        return exp((-4*(2*r - (a + b))**2) / ((b - a)**2 - (2*r - (a + b))**2))\n",
    "    return 0"
   ]
  },
  {
   "cell_type": "code",
   "execution_count": 6,
   "id": "f9ed1047",
   "metadata": {},
   "outputs": [],
   "source": [
    "def gen_next(u, f, u_prev, h, tau, r):\n",
    "    u_next = [0 for _ in range(len(u))]\n",
    "    for i in range(1, len(u) - 1):\n",
    "        u_next[i] = 2 * u[i] - u_prev[i] + (tau**2 * c**2) / (r[i]**(R-1) * h) * (\n",
    "            (((r[i + 1] + r[i])/2)**(R-1) * (u[i+1] - u[i]) / h) - (\n",
    "                ((r[i] + r[i - 1])/2)**(R-1) * (u[i] - u[i-1]) / h)) + tau**2 * f[i]\n",
    "    u_next[0] = u_next[1]\n",
    "    u_next[-1] = u_next[-2]\n",
    "    return u_next"
   ]
  },
  {
   "cell_type": "code",
   "execution_count": 7,
   "id": "946c7914",
   "metadata": {},
   "outputs": [],
   "source": [
    "def calc_C(u1, u2):\n",
    "    if len(u1) == count1 + 2:\n",
    "        u1_ = u1[1:-1]\n",
    "        u2_ = u2[2:-2:3]\n",
    "        ans = [abs(u1_[i] - u2_[i]) for i in range(len(u2_))]\n",
    "#         print('грубая', min(ans))\n",
    "    else:\n",
    "        u1_ = u1[2:-2:3]\n",
    "        u2_ = u2[5:-5:9]\n",
    "        ans = [abs(u1_[i] - u2_[i]) for i in range(len(u2_))]\n",
    "#         print('мелкая', min(ans))\n",
    "    return max(ans)"
   ]
  },
  {
   "cell_type": "code",
   "execution_count": 8,
   "id": "fa4c207d",
   "metadata": {},
   "outputs": [],
   "source": [
    "def calc_L2(u1, u2):\n",
    "    if len(u1) == count1 + 2:\n",
    "        u1_ = u1[1:-1]\n",
    "        u2_ = u2[2:-2:3]\n",
    "    else:\n",
    "        u1_ = u1[2:-2:3]\n",
    "        u2_ = u2[5:-5:9]\n",
    "    ans = [(abs(u1_[i] - u2_[i]))**2 for i in range(len(u2_))]\n",
    "    return sqrt(sum(ans))"
   ]
  },
  {
   "cell_type": "code",
   "execution_count": 9,
   "id": "41c4644f",
   "metadata": {},
   "outputs": [],
   "source": [
    "u01 = [get_v0(r(i, h1)) for i in range(count1 + 2)]\n",
    "u02 = [get_v0(r(i, h2)) for i in range(count2 + 2)]\n",
    "u03 = [get_v0(r(i, h3)) for i in range(count3 + 2)]\n",
    "f1 = [0 for _ in range(count1 + 2)]\n",
    "f2 = [0 for _ in range(count2 + 2)]\n",
    "f3 = [0 for _ in range(count3 + 2)]"
   ]
  },
  {
   "cell_type": "code",
   "execution_count": 10,
   "id": "72b7ec48",
   "metadata": {},
   "outputs": [],
   "source": [
    "from sympy import *\n",
    "\n",
    "rs = symbols('r')\n",
    "f_ = lambda t, r: 0\n",
    "v0s = exp(-4 * (2*rs - (a+b))**2 / ((b-a)**2 - (2*rs - (a+b))**2) )\n",
    "dudt2s = c**2 * (1/rs**(R-1)) * (rs**(R-1) * v0s.diff(rs)).diff(rs) - f_(0, rs)\n",
    "\n",
    "u1_ = lambda r, tau: get_v0(r) + (tau**2 / 2) * dudt2s.subs(rs, r) if a < r < b else 0"
   ]
  },
  {
   "cell_type": "code",
   "execution_count": 11,
   "id": "23328f32",
   "metadata": {},
   "outputs": [],
   "source": [
    "u_next1 = [u1_(r(i, h1), tau1) for i in range(count1 + 2)]\n",
    "\n",
    "u_next2 = [u1_(r(i, h2), tau2) for i in range(count2 + 2)]\n",
    "for _ in range(2):\n",
    "    y2 = gen_next(u_next2, f2, u02, h2, tau2, r2)\n",
    "    u_next2, u02 = y2, u_next2\n",
    "\n",
    "u_next3 = [u1_(r(i, h3), tau3) for i in range(count3 + 2)]\n",
    "for _ in range(8):\n",
    "    y3 = gen_next(u_next3, f3, u03, h3, tau3, r3)\n",
    "    u_next3, u03 = y3, u_next3"
   ]
  },
  {
   "cell_type": "code",
   "execution_count": 12,
   "id": "3ca4ea9e",
   "metadata": {},
   "outputs": [],
   "source": [
    "# u_next1 = gen_next(u01, f1, u01, h1, tau1)\n",
    "# u_next2 = gen_next(u02, f2, u02, h2, tau2)\n",
    "# u_next3 = gen_next(u03, f3, u03, h3, tau3)"
   ]
  },
  {
   "cell_type": "code",
   "execution_count": null,
   "id": "ebc03057",
   "metadata": {
    "scrolled": true
   },
   "outputs": [
    {
     "name": "stderr",
     "output_type": "stream",
     "text": [
      " 56%|█████████████████████████████████████████████                                   | 156/277 [16:35<13:20,  6.61s/it]"
     ]
    }
   ],
   "source": [
    "norm_c = []\n",
    "norm_L2 = []\n",
    "time = []\n",
    "t = 0\n",
    "with tqdm(total=int(T/tau1)) as pbar:\n",
    "    while t < T:\n",
    "        t += tau1\n",
    "        y1 = gen_next(u_next1, f1, u01, h1, tau1, r1)\n",
    "        u_next1, u01 = y1, u_next1\n",
    "        for _ in range(3):\n",
    "            y2 = gen_next(u_next2, f2, u02, h2, tau2, r2)\n",
    "            u_next2, u02 = y2, u_next2\n",
    "        for _ in range(9):\n",
    "            y3 = gen_next(u_next3, f3, u03, h3, tau3, r3)\n",
    "            u_next3, u03 = y3, u_next3\n",
    "        time.append(t)\n",
    "        norm_L2.append(calc_L2(u_next1, u_next2) / calc_L2(u_next2, u_next3))\n",
    "        norm_c.append(calc_C(u_next1, u_next2) / calc_C(u_next2, u_next3))\n",
    "        pbar.update(1)\n"
   ]
  },
  {
   "cell_type": "code",
   "execution_count": null,
   "id": "22e829be",
   "metadata": {},
   "outputs": [],
   "source": [
    "fig, ax = plt.subplots(figsize = (9, 7))\n",
    "ax.plot(time[2:], norm_c[2:], 'g')\n",
    "ax.plot(time[2:], norm_L2[2:], 'b')\n",
    "ax.plot(time[2:], [9 for _ in range(len(time) - 2)], 'r')\n",
    "ax.set_title(\"Отношение норм для $R^2$\")\n",
    "ax.grid()\n",
    "ax.legend(['C-norm', 'L2-norm', 'Ref=9'], loc=2)\n",
    "ax.set_xlabel('Time')\n",
    "ax.set_xlabel('Ratio')\n",
    "\n",
    "plt.show()"
   ]
  },
  {
   "cell_type": "code",
   "execution_count": null,
   "id": "9b851664",
   "metadata": {},
   "outputs": [],
   "source": []
  }
 ],
 "metadata": {
  "kernelspec": {
   "display_name": "Python 3",
   "language": "python",
   "name": "python3"
  },
  "language_info": {
   "codemirror_mode": {
    "name": "ipython",
    "version": 3
   },
   "file_extension": ".py",
   "mimetype": "text/x-python",
   "name": "python",
   "nbconvert_exporter": "python",
   "pygments_lexer": "ipython3",
   "version": "3.8.8"
  }
 },
 "nbformat": 4,
 "nbformat_minor": 5
}
