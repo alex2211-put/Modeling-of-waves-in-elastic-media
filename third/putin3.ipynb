{
 "cells": [
  {
   "cell_type": "code",
   "execution_count": 1,
   "id": "bdd8f47c",
   "metadata": {},
   "outputs": [],
   "source": [
    "import matplotlib.pyplot as plt\n",
    "from tqdm import tqdm\n",
    "from math import sqrt\n",
    "from math import exp\n",
    "from matplotlib.animation import FuncAnimation\n",
    "from IPython.display import HTML\n"
   ]
  },
  {
   "cell_type": "markdown",
   "id": "ad0bf50e",
   "metadata": {},
   "source": [
    "# Settings"
   ]
  },
  {
   "cell_type": "code",
   "execution_count": 2,
   "id": "b3d9f393",
   "metadata": {},
   "outputs": [],
   "source": [
    "C = 0.9\n",
    "R = 3"
   ]
  },
  {
   "cell_type": "markdown",
   "id": "818324e0",
   "metadata": {},
   "source": [
    "# Code"
   ]
  },
  {
   "cell_type": "code",
   "execution_count": 3,
   "id": "7e624e85",
   "metadata": {},
   "outputs": [],
   "source": [
    "# parameters\n",
    "r_min = 0.2\n",
    "r_max = 2.0\n",
    "c = 1.5\n",
    "a = 0.8\n",
    "b = 1.4\n",
    "count1 = 500\n",
    "count2 = 1500\n",
    "h1 = (r_max - r_min) / count1\n",
    "h2 = (r_max - r_min) / count2\n",
    "tau1 = C * h1 / c\n",
    "tau2 = C * h2 / c\n",
    "\n",
    "timeBegin, timeEnd = 1.2, 1.8"
   ]
  },
  {
   "cell_type": "code",
   "execution_count": 4,
   "id": "dd6505e2",
   "metadata": {},
   "outputs": [],
   "source": [
    "def r(i, h):\n",
    "    return r_min + (i - 0.5)*h"
   ]
  },
  {
   "cell_type": "code",
   "execution_count": 5,
   "id": "794927ce",
   "metadata": {},
   "outputs": [],
   "source": [
    "analSol = lambda t, r: r ** ((1 - R) / 2) * U(c * t - r)\n",
    "\n",
    "f = lambda t, r: c**2 * (R - 1) * (R - 3) * U(c * t - r) / 4 / r ** ((R + 3) / 2)\n",
    "\n",
    "def borderConditions(t, r):\n",
    "    return (1 - R) / 2 * r ** (-(1 + R) / 2) * U(c * t - r) - r ** ((1 - R) / 2) * UDerivate(c * t - r)\n",
    "\n"
   ]
  },
  {
   "cell_type": "code",
   "execution_count": 6,
   "id": "b84f148f",
   "metadata": {},
   "outputs": [],
   "source": [
    "def gen_next(u, u_prev, h, tau, t):\n",
    "    u_next = [0 for _ in range(len(u))]\n",
    "    for i in range(1, len(u) - 1):\n",
    "        u_next[i] = 2 * u[i] - u_prev[i] + (tau**2 * c**2) / (r(i, h)**(R-1) * h) * (((r(i + 0.5, h))**(R-1) * (u[i+1] - u[i]) / h) - \n",
    "                                                                                     ((r(i - 0.5, h))**(R-1) * (u[i] - u[i-1]) / h)) + tau**2 * f(t - tau, r(i, h))\n",
    "#     print(f(t, r(i, h)))\n",
    "    u_next[0] = u_next[1] - h * borderConditions(t, r_min)\n",
    "    u_next[-1] = u_next[-2] + h * borderConditions(t, r_max)\n",
    "    return u_next"
   ]
  },
  {
   "cell_type": "code",
   "execution_count": 7,
   "id": "442b2ebe",
   "metadata": {},
   "outputs": [],
   "source": [
    "def U(r):\n",
    "    if a < r < b:\n",
    "        return exp((-4*(2*r - (a + b))**2) / ((b - a)**2 - (2*r - (a + b))**2))\n",
    "    return 0"
   ]
  },
  {
   "cell_type": "code",
   "execution_count": 8,
   "id": "72fcf172",
   "metadata": {},
   "outputs": [],
   "source": [
    "def UDerivate(r):\n",
    "    return -4 * U(r) * (4 * (2 * r - b - a) ** 3 + 4 * (2 * r - b - a) * ((b - a) ** 2 - (2 * r - b - a) ** 2)) / (\n",
    "                (b - a) ** 2 - (2 * r - b - a) ** 2)"
   ]
  },
  {
   "cell_type": "code",
   "execution_count": 9,
   "id": "4cd17790",
   "metadata": {},
   "outputs": [],
   "source": [
    "def calc_C(u1, u2):\n",
    "#     print(u1, '\\n', u2)\n",
    "    if len(u1) == count1 + 2:\n",
    "        u1_ = u1[1:-1]\n",
    "        u2_ = u2[1:-1]\n",
    "        ans = [abs(u1_[i] - u2_[i]) for i in range(len(u2_))]\n",
    "#         print('грубая', min(ans))\n",
    "    else:\n",
    "        u1_ = u1[2:-2:3]\n",
    "        u2_ = u2[1:-1]\n",
    "        ans = [abs(u1_[i] - u2_[i]) for i in range(len(u1_))]\n",
    "#         print('мелкая', min(ans))\n",
    "    return max(ans)"
   ]
  },
  {
   "cell_type": "code",
   "execution_count": 10,
   "id": "735e24eb",
   "metadata": {},
   "outputs": [],
   "source": [
    "def calc_L2(u1, u2):\n",
    "#     print(u1, '\\n', u2)\n",
    "    if len(u1) == count1 + 2:\n",
    "        u1_ = u1[1:-1]\n",
    "        u2_ = u2[1:-1]\n",
    "    else:\n",
    "        u1_ = u1[2:-2:3]\n",
    "        u2_ = u2[1:-1]\n",
    "    ans = [(abs(u1_[i] - u2_[i]))**2 for i in range(len(u1_))]\n",
    "    return sqrt(sum(ans))"
   ]
  },
  {
   "cell_type": "code",
   "execution_count": 11,
   "id": "8b5c3678",
   "metadata": {},
   "outputs": [],
   "source": [
    "t = timeBegin\n",
    "u01 = [analSol(timeBegin, r(i, h1)) for i in range(count1 + 2)]\n",
    "u02 = [analSol(timeBegin, r(i, h2)) for i in range(count2 + 2)]\n",
    "u_next1 = [analSol(timeBegin + tau1, r(i, h1)) for i in range(count1 + 2)]\n",
    "u_next2 = [analSol(timeBegin + tau2, r(i, h2)) for i in range(count2 + 2)]\n",
    "for i in range(2):\n",
    "    y2 = gen_next(u_next2, u02, h2, tau2, timeBegin + (i + 2)*tau2)\n",
    "    u_next2, u02 = y2, u_next2"
   ]
  },
  {
   "cell_type": "code",
   "execution_count": null,
   "id": "0412d93b",
   "metadata": {},
   "outputs": [
    {
     "name": "stderr",
     "output_type": "stream",
     "text": [
      " 69%|███████████████████████████████████████████████████████▍                        | 192/277 [00:03<00:01, 52.82it/s]"
     ]
    }
   ],
   "source": [
    "norm_c = []\n",
    "norm_L2 = []\n",
    "time = []\n",
    "t = timeBegin + tau1\n",
    "with tqdm(total=int((timeEnd - timeBegin)/tau1)) as pbar:\n",
    "    while t < timeEnd:\n",
    "        y1 = gen_next(u_next1, u01, h1, tau1, t + tau1)\n",
    "        u_next1, u01 = y1, u_next1\n",
    "        for i in range(3):\n",
    "            y2 = gen_next(u_next2, u02, h2, tau2, t + (i + 1) * tau2)\n",
    "            u_next2, u02 = y2, u_next2\n",
    "        analit_sol = [analSol(t + tau1, r(i, h1)) for i in range(count1 + 2)]\n",
    "        norm_c.append(calc_C(u_next1, analit_sol)  / calc_C(u_next2, analit_sol))\n",
    "        norm_L2.append(calc_L2(u_next1, analit_sol) / calc_L2(u_next2, analit_sol))\n",
    "        time.append(t + tau1)\n",
    "        pbar.update(1)\n",
    "        t += tau1"
   ]
  },
  {
   "cell_type": "code",
   "execution_count": null,
   "id": "70c7aeb3",
   "metadata": {},
   "outputs": [],
   "source": [
    "fig, ax = plt.subplots(figsize = (9, 7))\n",
    "ax.plot(time, norm_c, 'g')\n",
    "ax.plot(time, norm_L2, 'b')\n",
    "ax.plot(time, [9 for _ in range(len(time))], 'r')\n",
    "# ax.plot(time, [1 for _ in range(len(time))], 'r')\n",
    "ax.set_title(\"Отношение норм для $R^3$\")\n",
    "ax.grid()\n",
    "ax.legend(['C-norm', 'L2-norm', 'Ref=9'], loc=4)\n",
    "ax.set_xlabel('Time')\n",
    "ax.set_ylabel('Ratio')\n",
    "\n",
    "plt.show()"
   ]
  },
  {
   "cell_type": "code",
   "execution_count": null,
   "id": "1b67871e",
   "metadata": {},
   "outputs": [],
   "source": []
  }
 ],
 "metadata": {
  "kernelspec": {
   "display_name": "Python 3",
   "language": "python",
   "name": "python3"
  },
  "language_info": {
   "codemirror_mode": {
    "name": "ipython",
    "version": 3
   },
   "file_extension": ".py",
   "mimetype": "text/x-python",
   "name": "python",
   "nbconvert_exporter": "python",
   "pygments_lexer": "ipython3",
   "version": "3.8.8"
  }
 },
 "nbformat": 4,
 "nbformat_minor": 5
}
